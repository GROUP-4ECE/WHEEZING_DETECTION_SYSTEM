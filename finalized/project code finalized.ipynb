{
 "cells": [
  {
   "cell_type": "markdown",
   "metadata": {},
   "source": [
    "# Imports"
   ]
  },
  {
   "cell_type": "code",
   "execution_count": 1,
   "metadata": {},
   "outputs": [],
   "source": [
    "#!pip install tensorflow"
   ]
  },
  {
   "cell_type": "code",
   "execution_count": 2,
   "metadata": {},
   "outputs": [],
   "source": [
    "#!pip install keras"
   ]
  },
  {
   "cell_type": "code",
   "execution_count": 3,
   "metadata": {},
   "outputs": [],
   "source": [
    "#!pip install keras --upgrade"
   ]
  },
  {
   "cell_type": "code",
   "execution_count": 4,
   "metadata": {},
   "outputs": [],
   "source": [
    "#!pip install librosa==0.9.2\n"
   ]
  },
  {
   "cell_type": "code",
   "execution_count": 5,
   "metadata": {
    "execution": {
     "iopub.execute_input": "2023-01-02T18:51:51.786265Z",
     "iopub.status.busy": "2023-01-02T18:51:51.785379Z",
     "iopub.status.idle": "2023-01-02T18:51:59.295431Z",
     "shell.execute_reply": "2023-01-02T18:51:59.294279Z",
     "shell.execute_reply.started": "2023-01-02T18:51:51.786137Z"
    }
   },
   "outputs": [
    {
     "name": "stderr",
     "output_type": "stream",
     "text": [
      "C:\\Users\\USER\\anaconda3\\lib\\site-packages\\paramiko\\transport.py:219: CryptographyDeprecationWarning: Blowfish has been deprecated\n",
      "  \"class\": algorithms.Blowfish,\n"
     ]
    }
   ],
   "source": [
    "import os\n",
    "import math\n",
    "import wave\n",
    "import librosa\n",
    "import numpy as np\n",
    "import pandas as pd\n",
    "import matplotlib.pyplot as plt\n",
    "\n",
    "%matplotlib inline\n",
    "\n",
    "import seaborn as sns\n",
    "\n",
    "import tensorflow as tf\n",
    "import matplotlib.pyplot as plt\n",
    "from keras.utils import np_utils\n",
    "from tensorflow.keras.layers import Embedding,LSTM,GRU,Dense,MaxPooling1D,Dropout\n",
    "from tensorflow.keras.layers import LeakyReLU,ReLU,Flatten,concatenate,Bidirectional,TimeDistributed\n",
    "from tensorflow.keras.layers import add,Conv1D,SeparableConv1D, GlobalMaxPooling2D,GlobalMaxPooling1D\n",
    "from tensorflow.keras.layers import Conv2D,Input,Activation,BatchNormalization,MaxPooling2D\n",
    "from tensorflow.keras.models import Sequential\n",
    "from keras.layers import concatenate\n",
    "from tensorflow.keras.models import Model,load_model\n",
    "from tensorflow.keras import backend as K\n",
    "from tensorflow.keras.models import Model\n",
    "from tensorflow.keras.layers import Input\n",
    "from tensorflow.keras.optimizers import Adamax\n",
    "from tensorflow.keras.callbacks import ModelCheckpoint, EarlyStopping\n",
    "from tensorflow.keras import regularizers\n",
    "from tensorflow.keras.applications.densenet import DenseNet201\n",
    "\n",
    "\n",
    "\n",
    "\n",
    "from sklearn.metrics import classification_report\n",
    "from sklearn.model_selection import train_test_split\n",
    "from sklearn.metrics import accuracy_score,precision_score,recall_score,f1_score,matthews_corrcoef\n",
    "from sklearn.metrics import cohen_kappa_score,roc_auc_score,confusion_matrix,classification_report"
   ]
  },
  {
   "cell_type": "markdown",
   "metadata": {},
   "source": [
    "# Data Preprocessing"
   ]
  },
  {
   "cell_type": "code",
   "execution_count": 6,
   "metadata": {
    "execution": {
     "iopub.execute_input": "2023-01-02T18:52:18.72181Z",
     "iopub.status.busy": "2023-01-02T18:52:18.72109Z",
     "iopub.status.idle": "2023-01-02T18:52:18.759121Z",
     "shell.execute_reply": "2023-01-02T18:52:18.75823Z",
     "shell.execute_reply.started": "2023-01-02T18:52:18.721773Z"
    }
   },
   "outputs": [],
   "source": [
    "os.listdir('C:/Users/USER/Desktop/jupyter/respiratory-sound-database')\n",
    "\n",
    "df_no_diagnosis = pd.read_csv('C:/Users/USER/Desktop/jupyter/respiratory-sound-database/demographic_info.txt', \n",
    "                              names=['Patient number', 'Age', 'Sex', 'Adult BMI (kg/m2)', 'Child Weight (kg)', 'Child Height (cm)'],\n",
    "                              delimiter=' ')\n",
    "\n",
    "diagnosis = pd.read_csv('C:/Users/USER/Desktop/jupyter/respiratory-sound-database/Respiratory_Sound_Database/Respiratory_Sound_Database/patient_diagnosis.csv', \n",
    "                        names=['Patient number', 'Diagnosis'])"
   ]
  },
  {
   "cell_type": "code",
   "execution_count": 7,
   "metadata": {
    "execution": {
     "iopub.execute_input": "2023-01-02T18:52:19.18654Z",
     "iopub.status.busy": "2023-01-02T18:52:19.18558Z",
     "iopub.status.idle": "2023-01-02T18:52:19.212106Z",
     "shell.execute_reply": "2023-01-02T18:52:19.211161Z",
     "shell.execute_reply.started": "2023-01-02T18:52:19.186491Z"
    }
   },
   "outputs": [
    {
     "data": {
      "text/plain": [
       "COPD              64\n",
       "Healthy           26\n",
       "URTI              14\n",
       "Bronchiectasis     7\n",
       "Pneumonia          6\n",
       "Bronchiolitis      6\n",
       "LRTI               2\n",
       "Asthma             1\n",
       "Name: Diagnosis, dtype: int64"
      ]
     },
     "execution_count": 7,
     "metadata": {},
     "output_type": "execute_result"
    }
   ],
   "source": [
    "df =  df_no_diagnosis.join(diagnosis.set_index('Patient number'), on = 'Patient number', how = 'left')\n",
    "df['Diagnosis'].value_counts()"
   ]
  },
  {
   "cell_type": "code",
   "execution_count": 8,
   "metadata": {
    "execution": {
     "iopub.execute_input": "2023-01-02T18:52:19.585969Z",
     "iopub.status.busy": "2023-01-02T18:52:19.58502Z",
     "iopub.status.idle": "2023-01-02T18:52:19.849824Z",
     "shell.execute_reply": "2023-01-02T18:52:19.848779Z",
     "shell.execute_reply.started": "2023-01-02T18:52:19.585921Z"
    }
   },
   "outputs": [],
   "source": [
    "root = 'C:/Users/USER/Desktop/jupyter/respiratory-sound-database/Respiratory_Sound_Database/Respiratory_Sound_Database/audio_and_txt_files/'\n",
    "\n",
    "filenames = [s.split('.')[0] for s in os.listdir(path = root) if '.txt' in s]"
   ]
  },
  {
   "cell_type": "markdown",
   "metadata": {},
   "source": [
    "## Read Respiratory Cycle Data"
   ]
  },
  {
   "cell_type": "code",
   "execution_count": 9,
   "metadata": {
    "execution": {
     "iopub.execute_input": "2023-01-02T18:52:20.940828Z",
     "iopub.status.busy": "2023-01-02T18:52:20.940094Z",
     "iopub.status.idle": "2023-01-02T18:52:20.946547Z",
     "shell.execute_reply": "2023-01-02T18:52:20.945609Z",
     "shell.execute_reply.started": "2023-01-02T18:52:20.940793Z"
    }
   },
   "outputs": [],
   "source": [
    "def Extract_Annotation_Data(file_name, root):\n",
    "    tokens = file_name.split('_')\n",
    "    recording_info = pd.DataFrame(data = [tokens], columns = ['Patient number', 'Recording index', 'Chest location','Acquisition mode','Recording equipment'])\n",
    "    recording_annotations = pd.read_csv(os.path.join(root, file_name + '.txt'), names = ['Start', 'End', 'Crackles', 'Wheezes'], delimiter= '\\t')\n",
    "    return (recording_info, recording_annotations)"
   ]
  },
  {
   "cell_type": "code",
   "execution_count": 10,
   "metadata": {
    "execution": {
     "iopub.execute_input": "2023-01-02T18:52:22.023682Z",
     "iopub.status.busy": "2023-01-02T18:52:22.023309Z",
     "iopub.status.idle": "2023-01-02T18:52:30.157958Z",
     "shell.execute_reply": "2023-01-02T18:52:30.156774Z",
     "shell.execute_reply.started": "2023-01-02T18:52:22.023652Z"
    }
   },
   "outputs": [],
   "source": [
    "i_list = []\n",
    "rec_annotations = []\n",
    "rec_annotations_dict = {}\n",
    "for s in filenames:\n",
    "    (i,a) = Extract_Annotation_Data(s, root)\n",
    "    i_list.append(i)\n",
    "    rec_annotations.append(a)\n",
    "    rec_annotations_dict[s] = a\n",
    "recording_info = pd.concat(i_list, axis = 0)\n",
    "recording_info.head()\n",
    "\n",
    "my_index = pd.Series(list(rec_annotations_dict.keys()))"
   ]
  },
  {
   "cell_type": "markdown",
   "metadata": {},
   "source": [
    "## Get Respiratory Cycle Wheezes and Crackles"
   ]
  },
  {
   "cell_type": "code",
   "execution_count": 11,
   "metadata": {
    "execution": {
     "iopub.execute_input": "2023-01-02T18:52:30.165705Z",
     "iopub.status.busy": "2023-01-02T18:52:30.163094Z",
     "iopub.status.idle": "2023-01-02T18:52:32.34908Z",
     "shell.execute_reply": "2023-01-02T18:52:32.348053Z",
     "shell.execute_reply.started": "2023-01-02T18:52:30.165662Z"
    }
   },
   "outputs": [],
   "source": [
    "no_label_list = []\n",
    "crack_list = []\n",
    "wheeze_list = []\n",
    "both_sym_list = []\n",
    "filename_list = []\n",
    "for f in filenames:\n",
    "    d = rec_annotations_dict[f]\n",
    "    no_labels = len(d[(d['Crackles'] == 0) & (d['Wheezes'] == 0)].index)\n",
    "    n_crackles = len(d[(d['Crackles'] == 1) & (d['Wheezes'] == 0)].index)\n",
    "    n_wheezes = len(d[(d['Crackles'] == 0) & (d['Wheezes'] == 1)].index)\n",
    "    both_sym = len(d[(d['Crackles'] == 1) & (d['Wheezes'] == 1)].index)\n",
    "    no_label_list.append(no_labels)\n",
    "    crack_list.append(n_crackles)\n",
    "    wheeze_list.append(n_wheezes)\n",
    "    both_sym_list.append(both_sym)\n",
    "    filename_list.append(f[:3])"
   ]
  },
  {
   "cell_type": "code",
   "execution_count": 12,
   "metadata": {
    "execution": {
     "iopub.execute_input": "2023-01-02T18:52:32.350819Z",
     "iopub.status.busy": "2023-01-02T18:52:32.350464Z",
     "iopub.status.idle": "2023-01-02T18:52:32.363914Z",
     "shell.execute_reply": "2023-01-02T18:52:32.362057Z",
     "shell.execute_reply.started": "2023-01-02T18:52:32.350784Z"
    }
   },
   "outputs": [],
   "source": [
    "file_label_df = pd.DataFrame(data = {'filename':filename_list, 'no label':no_label_list, 'crackles only':crack_list, 'wheezes only':wheeze_list, 'crackles and wheezees':both_sym_list})"
   ]
  },
  {
   "cell_type": "code",
   "execution_count": 13,
   "metadata": {
    "execution": {
     "iopub.execute_input": "2023-01-02T18:55:58.46631Z",
     "iopub.status.busy": "2023-01-02T18:55:58.465146Z",
     "iopub.status.idle": "2023-01-02T18:55:58.480249Z",
     "shell.execute_reply": "2023-01-02T18:55:58.479235Z",
     "shell.execute_reply.started": "2023-01-02T18:55:58.46627Z"
    }
   },
   "outputs": [],
   "source": [
    "lables = file_label_df\n",
    "lables.sort_values(by=['filename'])\n",
    "sum = lables.groupby('filename').sum()"
   ]
  },
  {
   "cell_type": "code",
   "execution_count": 14,
   "metadata": {
    "execution": {
     "iopub.execute_input": "2023-01-02T18:56:01.401429Z",
     "iopub.status.busy": "2023-01-02T18:56:01.400795Z",
     "iopub.status.idle": "2023-01-02T18:56:01.450133Z",
     "shell.execute_reply": "2023-01-02T18:56:01.448481Z",
     "shell.execute_reply.started": "2023-01-02T18:56:01.401382Z"
    }
   },
   "outputs": [
    {
     "data": {
      "text/html": [
       "<div>\n",
       "<style scoped>\n",
       "    .dataframe tbody tr th:only-of-type {\n",
       "        vertical-align: middle;\n",
       "    }\n",
       "\n",
       "    .dataframe tbody tr th {\n",
       "        vertical-align: top;\n",
       "    }\n",
       "\n",
       "    .dataframe thead th {\n",
       "        text-align: right;\n",
       "    }\n",
       "</style>\n",
       "<table border=\"1\" class=\"dataframe\">\n",
       "  <thead>\n",
       "    <tr style=\"text-align: right;\">\n",
       "      <th></th>\n",
       "      <th>no label</th>\n",
       "      <th>crackles only</th>\n",
       "      <th>wheezes only</th>\n",
       "      <th>crackles and wheezees</th>\n",
       "      <th>diagnosis</th>\n",
       "    </tr>\n",
       "    <tr>\n",
       "      <th>filename</th>\n",
       "      <th></th>\n",
       "      <th></th>\n",
       "      <th></th>\n",
       "      <th></th>\n",
       "      <th></th>\n",
       "    </tr>\n",
       "  </thead>\n",
       "  <tbody>\n",
       "    <tr>\n",
       "      <th>101</th>\n",
       "      <td>23</td>\n",
       "      <td>0</td>\n",
       "      <td>0</td>\n",
       "      <td>0</td>\n",
       "      <td>Healthy</td>\n",
       "    </tr>\n",
       "    <tr>\n",
       "      <th>102</th>\n",
       "      <td>13</td>\n",
       "      <td>0</td>\n",
       "      <td>0</td>\n",
       "      <td>0</td>\n",
       "      <td>Healthy</td>\n",
       "    </tr>\n",
       "    <tr>\n",
       "      <th>103</th>\n",
       "      <td>2</td>\n",
       "      <td>0</td>\n",
       "      <td>4</td>\n",
       "      <td>0</td>\n",
       "      <td>Wheezes</td>\n",
       "    </tr>\n",
       "    <tr>\n",
       "      <th>104</th>\n",
       "      <td>44</td>\n",
       "      <td>1</td>\n",
       "      <td>10</td>\n",
       "      <td>0</td>\n",
       "      <td>Wheezes</td>\n",
       "    </tr>\n",
       "    <tr>\n",
       "      <th>105</th>\n",
       "      <td>8</td>\n",
       "      <td>0</td>\n",
       "      <td>0</td>\n",
       "      <td>0</td>\n",
       "      <td>Healthy</td>\n",
       "    </tr>\n",
       "    <tr>\n",
       "      <th>...</th>\n",
       "      <td>...</td>\n",
       "      <td>...</td>\n",
       "      <td>...</td>\n",
       "      <td>...</td>\n",
       "      <td>...</td>\n",
       "    </tr>\n",
       "    <tr>\n",
       "      <th>222</th>\n",
       "      <td>24</td>\n",
       "      <td>13</td>\n",
       "      <td>8</td>\n",
       "      <td>0</td>\n",
       "      <td>Crackles</td>\n",
       "    </tr>\n",
       "    <tr>\n",
       "      <th>223</th>\n",
       "      <td>29</td>\n",
       "      <td>19</td>\n",
       "      <td>13</td>\n",
       "      <td>0</td>\n",
       "      <td>Crackles</td>\n",
       "    </tr>\n",
       "    <tr>\n",
       "      <th>224</th>\n",
       "      <td>14</td>\n",
       "      <td>0</td>\n",
       "      <td>0</td>\n",
       "      <td>0</td>\n",
       "      <td>Healthy</td>\n",
       "    </tr>\n",
       "    <tr>\n",
       "      <th>225</th>\n",
       "      <td>14</td>\n",
       "      <td>0</td>\n",
       "      <td>0</td>\n",
       "      <td>0</td>\n",
       "      <td>Healthy</td>\n",
       "    </tr>\n",
       "    <tr>\n",
       "      <th>226</th>\n",
       "      <td>18</td>\n",
       "      <td>13</td>\n",
       "      <td>0</td>\n",
       "      <td>0</td>\n",
       "      <td>Crackles</td>\n",
       "    </tr>\n",
       "  </tbody>\n",
       "</table>\n",
       "<p>126 rows × 5 columns</p>\n",
       "</div>"
      ],
      "text/plain": [
       "          no label  crackles only  wheezes only  crackles and wheezees  \\\n",
       "filename                                                                 \n",
       "101             23              0             0                      0   \n",
       "102             13              0             0                      0   \n",
       "103              2              0             4                      0   \n",
       "104             44              1            10                      0   \n",
       "105              8              0             0                      0   \n",
       "...            ...            ...           ...                    ...   \n",
       "222             24             13             8                      0   \n",
       "223             29             19            13                      0   \n",
       "224             14              0             0                      0   \n",
       "225             14              0             0                      0   \n",
       "226             18             13             0                      0   \n",
       "\n",
       "         diagnosis  \n",
       "filename            \n",
       "101        Healthy  \n",
       "102        Healthy  \n",
       "103        Wheezes  \n",
       "104        Wheezes  \n",
       "105        Healthy  \n",
       "...            ...  \n",
       "222       Crackles  \n",
       "223       Crackles  \n",
       "224        Healthy  \n",
       "225        Healthy  \n",
       "226       Crackles  \n",
       "\n",
       "[126 rows x 5 columns]"
      ]
     },
     "execution_count": 14,
     "metadata": {},
     "output_type": "execute_result"
    }
   ],
   "source": [
    "conditions = [\n",
    "    (sum['crackles only'] == 0) & (sum['wheezes only'] == 0) & (sum['crackles and wheezees'] == 0),\n",
    "    (sum['crackles only'] == sum.max(axis=1)),\n",
    "    (sum['wheezes only'] == sum.max(axis=1)),\n",
    "    (sum['crackles and wheezees'] == sum.max(axis=1)),\n",
    "    (sum['no label'] == sum.max(axis=1)) & (sum['crackles only'] > sum['wheezes only']) & (sum['crackles only'] > sum['crackles and wheezees']),\n",
    "    (sum['no label'] == sum.max(axis=1)) & (sum['wheezes only'] >= sum['crackles only']) & (sum['wheezes only'] > sum['crackles and wheezees']),\n",
    "    (sum['no label'] == sum.max(axis=1)) & (sum['crackles and wheezees'] >= sum['crackles only']) & (sum['crackles and wheezees'] >= sum['wheezes only']),\n",
    "]\n",
    "\n",
    "values = ['Healthy' , 'Crackles' , 'Wheezes','Wheezes & Crackles', 'Crackles' , 'Wheezes','Wheezes & Crackles']\n",
    "sum = lables.groupby('filename').sum()\n",
    "sum['diagnosis'] = np.select(conditions, values)\n",
    "sum"
   ]
  },
  {
   "cell_type": "code",
   "execution_count": 15,
   "metadata": {
    "execution": {
     "iopub.execute_input": "2023-01-02T18:56:24.474578Z",
     "iopub.status.busy": "2023-01-02T18:56:24.47416Z",
     "iopub.status.idle": "2023-01-02T18:56:24.690645Z",
     "shell.execute_reply": "2023-01-02T18:56:24.689768Z",
     "shell.execute_reply.started": "2023-01-02T18:56:24.474544Z"
    }
   },
   "outputs": [
    {
     "name": "stdout",
     "output_type": "stream",
     "text": [
      "Crackles              50\n",
      "Wheezes               36\n",
      "Healthy               34\n",
      "Wheezes & Crackles     6\n",
      "Name: diagnosis, dtype: int64\n",
      "\n",
      "Crackles              39.682540\n",
      "Wheezes               28.571429\n",
      "Healthy               26.984127\n",
      "Wheezes & Crackles     4.761905\n",
      "Name: diagnosis, dtype: float64\n"
     ]
    },
    {
     "name": "stderr",
     "output_type": "stream",
     "text": [
      "C:\\Users\\USER\\anaconda3\\lib\\site-packages\\seaborn\\_decorators.py:36: FutureWarning: Pass the following variable as a keyword arg: x. From version 0.12, the only valid positional argument will be `data`, and passing other arguments without an explicit keyword will result in an error or misinterpretation.\n",
      "  warnings.warn(\n"
     ]
    },
    {
     "data": {
      "image/png": "[encoded data removed]",
      "text/plain": [
       "<Figure size 640x480 with 1 Axes>"
      ]
     },
     "metadata": {},
     "output_type": "display_data"
    }
   ],
   "source": [
    "print (sum.diagnosis.value_counts())\n",
    "print ('')\n",
    "print (sum.diagnosis.value_counts(normalize=True) *100)\n",
    "\n",
    "import seaborn as sns\n",
    "sns.countplot(sum.diagnosis)\n",
    "my_plt = plt.xticks(rotation=90)"
   ]
  },
  {
   "cell_type": "markdown",
   "metadata": {},
   "source": [
    "## Save Diagnosis Data"
   ]
  },
  {
   "cell_type": "code",
   "execution_count": 16,
   "metadata": {},
   "outputs": [],
   "source": [
    "#pip install resampy"
   ]
  },
  {
   "cell_type": "code",
   "execution_count": 17,
   "metadata": {
    "execution": {
     "iopub.execute_input": "2023-01-02T18:57:31.484777Z",
     "iopub.status.busy": "2023-01-02T18:57:31.48406Z",
     "iopub.status.idle": "2023-01-02T18:57:31.493585Z",
     "shell.execute_reply": "2023-01-02T18:57:31.492363Z",
     "shell.execute_reply.started": "2023-01-02T18:57:31.48474Z"
    }
   },
   "outputs": [],
   "source": [
    "sum.diagnosis.to_csv('C:/Users/USER/Desktop/jupyter/respiratory-sound-database/Respiratory_Sound_Database/Respiratory_Sound_Database/wheezes_crackles_diagnosis.csv')"
   ]
  },
  {
   "cell_type": "markdown",
   "metadata": {},
   "source": [
    "## Data Augmentation"
   ]
  },
  {
   "cell_type": "code",
   "execution_count": 18,
   "metadata": {
    "execution": {
     "iopub.execute_input": "2023-01-02T18:57:33.982066Z",
     "iopub.status.busy": "2023-01-02T18:57:33.981685Z",
     "iopub.status.idle": "2023-01-02T18:57:33.986638Z",
     "shell.execute_reply": "2023-01-02T18:57:33.985624Z",
     "shell.execute_reply.started": "2023-01-02T18:57:33.982032Z"
    }
   },
   "outputs": [],
   "source": [
    "audio_data = 'C:/Users/USER/Desktop/jupyter/respiratory-sound-database/Respiratory_Sound_Database/Respiratory_Sound_Database/audio_and_txt_files/'"
   ]
  },
  {
   "cell_type": "code",
   "execution_count": 19,
   "metadata": {
    "execution": {
     "iopub.execute_input": "2023-01-02T18:57:53.461217Z",
     "iopub.status.busy": "2023-01-02T18:57:53.460204Z",
     "iopub.status.idle": "2023-01-02T18:57:53.475137Z",
     "shell.execute_reply": "2023-01-02T18:57:53.473657Z",
     "shell.execute_reply.started": "2023-01-02T18:57:53.461154Z"
    }
   },
   "outputs": [
    {
     "data": {
      "text/html": [
       "<div>\n",
       "<style scoped>\n",
       "    .dataframe tbody tr th:only-of-type {\n",
       "        vertical-align: middle;\n",
       "    }\n",
       "\n",
       "    .dataframe tbody tr th {\n",
       "        vertical-align: top;\n",
       "    }\n",
       "\n",
       "    .dataframe thead th {\n",
       "        text-align: right;\n",
       "    }\n",
       "</style>\n",
       "<table border=\"1\" class=\"dataframe\">\n",
       "  <thead>\n",
       "    <tr style=\"text-align: right;\">\n",
       "      <th></th>\n",
       "      <th>patient_id</th>\n",
       "      <th>disease</th>\n",
       "    </tr>\n",
       "  </thead>\n",
       "  <tbody>\n",
       "    <tr>\n",
       "      <th>0</th>\n",
       "      <td>101</td>\n",
       "      <td>Healthy</td>\n",
       "    </tr>\n",
       "    <tr>\n",
       "      <th>1</th>\n",
       "      <td>102</td>\n",
       "      <td>Healthy</td>\n",
       "    </tr>\n",
       "    <tr>\n",
       "      <th>2</th>\n",
       "      <td>103</td>\n",
       "      <td>Wheezes</td>\n",
       "    </tr>\n",
       "    <tr>\n",
       "      <th>3</th>\n",
       "      <td>104</td>\n",
       "      <td>Wheezes</td>\n",
       "    </tr>\n",
       "  </tbody>\n",
       "</table>\n",
       "</div>"
      ],
      "text/plain": [
       "   patient_id  disease\n",
       "0         101  Healthy\n",
       "1         102  Healthy\n",
       "2         103  Wheezes\n",
       "3         104  Wheezes"
      ]
     },
     "execution_count": 19,
     "metadata": {},
     "output_type": "execute_result"
    }
   ],
   "source": [
    "diagnosis_df = pd.read_csv('C:/Users/USER/Desktop/jupyter/respiratory-sound-database/Respiratory_Sound_Database/Respiratory_Sound_Database/wheezes_crackles_diagnosis.csv', names=['patient_id', 'disease'],header=0)\n",
    "diagnosis_df.head(4)"
   ]
  },
  {
   "cell_type": "code",
   "execution_count": 20,
   "metadata": {
    "execution": {
     "iopub.execute_input": "2023-01-02T19:14:23.401383Z",
     "iopub.status.busy": "2023-01-02T19:14:23.400959Z",
     "iopub.status.idle": "2023-01-02T19:14:23.410004Z",
     "shell.execute_reply": "2023-01-02T19:14:23.40882Z",
     "shell.execute_reply.started": "2023-01-02T19:14:23.401351Z"
    }
   },
   "outputs": [],
   "source": [
    "def add_noise(data,x):\n",
    "    noise = np.random.randn(len(data))\n",
    "    data_noise = data + x * noise\n",
    "    return data_noise\n",
    "\n",
    "def shift(data,x):\n",
    "    return np.roll(data, x)\n",
    "\n",
    "def stretch(data, rate):\n",
    "    data = librosa.effects.time_stretch(data, rate)\n",
    "    return data\n",
    "\n",
    "def pitch_shift (data , rate):\n",
    "    data = librosa.effects.pitch_shift(data, sr=220250, n_steps=rate)\n",
    "    return data"
   ]
  },
  {
   "cell_type": "code",
   "execution_count": 21,
   "metadata": {
    "execution": {
     "iopub.execute_input": "2023-01-03T10:28:26.731344Z",
     "iopub.status.busy": "2023-01-03T10:28:26.730851Z",
     "iopub.status.idle": "2023-01-03T10:28:26.770133Z",
     "shell.execute_reply": "2023-01-03T10:28:26.769264Z",
     "shell.execute_reply.started": "2023-01-03T10:28:26.731226Z"
    }
   },
   "outputs": [],
   "source": [
    "def mfcc_feature_exteraction_wheezes(dir_):\n",
    "    X_=[]\n",
    "    y_=[]\n",
    "    crackles=[]\n",
    "    crackles_count=0\n",
    "    data = diagnosis_df\n",
    "    features = 52\n",
    "    for soundDir in (os.listdir(dir_)):\n",
    "        if soundDir[-3:]=='wav':\n",
    "            \n",
    "            p = list(data[data['patient_id']==int(soundDir[:3])]['disease'])[0]\n",
    "\n",
    "            if (p=='Crackles'):\n",
    "                if (soundDir[:7] in crackles) and crackles_count<2:\n",
    "                    data_x, sampling_rate = librosa.load(dir_+soundDir,res_type='kaiser_fast')\n",
    "                    mfccs = np.mean(librosa.feature.mfcc(y=data_x, sr=sampling_rate, n_mfcc=features).T,axis=0)\n",
    "                    crackles.append(soundDir[:7])\n",
    "                    crackles_count+=1\n",
    "                    X_.append(mfccs)\n",
    "                    y_.append('Not Wheezes')\n",
    "                    \n",
    "                    data_stretch = librosa.effects.time_stretch(data_x, rate=1.2)\n",
    "                    mfccs_stretch = np.mean(librosa.feature.mfcc(y=data_stretch, sr=sampling_rate, n_mfcc=features).T,axis = 0)\n",
    "                    X_.append(mfccs_stretch)\n",
    "                    y_.append('Not Wheezes')\n",
    "\n",
    "                if (soundDir[:7] not in crackles):\n",
    "                    data_x, sampling_rate = librosa.load(dir_+soundDir,res_type='kaiser_fast')\n",
    "                    mfccs = np.mean(librosa.feature.mfcc(y=data_x, sr=sampling_rate, n_mfcc=features).T,axis=0)\n",
    "                    crackles.append(soundDir[:7])\n",
    "                    crackles_count=0\n",
    "                    X_.append(mfccs)\n",
    "                    y_.append('Not Wheezes')\n",
    "                    \n",
    "                    data_stretch = librosa.effects.time_stretch(data_x, rate=1.2)\n",
    "                    mfccs_stretch = np.mean(librosa.feature.mfcc(y=data_stretch, sr=sampling_rate, n_mfcc=features).T,axis = 0)\n",
    "                    X_.append(mfccs_stretch)\n",
    "                    y_.append('Not Wheezes')\n",
    "                    \n",
    "            if (p == 'Wheezes'):\n",
    "                data_x, sampling_rate = librosa.load(dir_+soundDir,res_type='kaiser_fast')\n",
    "                mfccs = np.mean(librosa.feature.mfcc(y=data_x, sr=sampling_rate, n_mfcc=features).T,axis = 0)\n",
    "                X_.append(mfccs)\n",
    "                y_.append('Wheezes')\n",
    "                \n",
    "                data_stretch = librosa.effects.time_stretch(data_x, rate=1.2)\n",
    "                mfccs_stretch = np.mean(librosa.feature.mfcc(y=data_stretch, sr=sampling_rate, n_mfcc=features).T,axis = 0)\n",
    "                X_.append(mfccs_stretch)\n",
    "                y_.append('Wheezes')\n",
    "                \n",
    "                data_stretch_2 = librosa.effects.time_stretch(data_x, rate=0.8)\n",
    "                mfccs_stretch = np.mean(librosa.feature.mfcc(y=data_stretch, sr=sampling_rate, n_mfcc=features).T,axis = 0)\n",
    "                X_.append(mfccs_stretch)\n",
    "                y_.append('Wheezes')\n",
    "                \n",
    "                \n",
    "            if (p=='Wheezes & Crackles'):\n",
    "                data_x, sampling_rate = librosa.load(dir_+soundDir,res_type='kaiser_fast')\n",
    "                mfccs = np.mean(librosa.feature.mfcc(y=data_x, sr=sampling_rate, n_mfcc=features).T,axis = 0)\n",
    "                X_.append(mfccs)\n",
    "                y_.append('Not Wheezes')\n",
    "                \n",
    "            if (p == 'Healthy'):\n",
    "                data_x, sampling_rate = librosa.load(dir_+soundDir,res_type='kaiser_fast')\n",
    "                mfccs = np.mean(librosa.feature.mfcc(y=data_x, sr=sampling_rate, n_mfcc=features).T,axis = 0)\n",
    "                X_.append(mfccs)\n",
    "                y_.append('Not Wheezes')\n",
    "                \n",
    "                data_stretch = librosa.effects.time_stretch(data_x, rate=1.2)\n",
    "                mfccs_stretch = np.mean(librosa.feature.mfcc(y=data_stretch, sr=sampling_rate, n_mfcc=features).T,axis = 0)\n",
    "                X_.append(mfccs_stretch)\n",
    "                y_.append('Not Wheezes')\n",
    "\n",
    "\n",
    "    X_data = np.array(X_)\n",
    "    y_data = np.array(y_)\n",
    "    \n",
    "    \n",
    "    \n",
    "    return X_data ,y_data"
   ]
  },
  {
   "cell_type": "code",
   "execution_count": 22,
   "metadata": {
    "execution": {
     "iopub.execute_input": "2023-01-03T10:29:00.944151Z",
     "iopub.status.busy": "2023-01-03T10:29:00.943797Z",
     "iopub.status.idle": "2023-01-03T10:29:00.961812Z",
     "shell.execute_reply": "2023-01-03T10:29:00.960827Z",
     "shell.execute_reply.started": "2023-01-03T10:29:00.94412Z"
    }
   },
   "outputs": [],
   "source": [
    "def mfcc_feature_exteraction_crackles(dir_):\n",
    "    X_=[]\n",
    "    y_=[]\n",
    "    data = diagnosis_df\n",
    "    features = 52\n",
    "    for soundDir in (os.listdir(dir_)):\n",
    "        if soundDir[-3:]=='wav'and soundDir[:3]!='':\n",
    "            \n",
    "            p = list(data[data['patient_id']==int(soundDir[:3])]['disease'])[0]\n",
    "            \n",
    "            if (p=='Crackles'):\n",
    "                data_x, sampling_rate = librosa.load(dir_+soundDir,res_type='kaiser_fast')\n",
    "                mfccs = np.mean(librosa.feature.mfcc(y=data_x, sr=sampling_rate, n_mfcc=features).T,axis=0)\n",
    "                X_.append(mfccs)\n",
    "                y_.append('Crackles')\n",
    "                \n",
    "                data_stretch = librosa.effects.time_stretch(data_x, rate=1.2)\n",
    "                mfccs_stretch = np.mean(librosa.feature.mfcc(y=data_stretch, sr=sampling_rate, n_mfcc=features).T,axis = 0)\n",
    "                X_.append(mfccs_stretch)\n",
    "                y_.append('Crackles')\n",
    "                    \n",
    "            if (p == 'Wheezes'):\n",
    "                data_x, sampling_rate = librosa.load(dir_+soundDir,res_type='kaiser_fast')\n",
    "                mfccs = np.mean(librosa.feature.mfcc(y=data_x, sr=sampling_rate, n_mfcc=features).T,axis = 0)\n",
    "                X_.append(mfccs)\n",
    "                y_.append('Not Crackles')\n",
    "                \n",
    "                data_stretch = librosa.effects.time_stretch(data_x, rate=1.2)\n",
    "                mfccs_stretch = np.mean(librosa.feature.mfcc(y=data_stretch, sr=sampling_rate, n_mfcc=features).T,axis = 0)\n",
    "                X_.append(mfccs_stretch)\n",
    "                y_.append('Not Crackles')\n",
    "                \n",
    "                data_stretch_2 = librosa.effects.time_stretch(data_x, rate=0.8)\n",
    "                mfccs_stretch_2 = np.mean(librosa.feature.mfcc(y=data_stretch_2, sr=sampling_rate, n_mfcc=features).T,axis = 0)\n",
    "                X_.append(mfccs_stretch_2)\n",
    "                y_.append('Not Crackles')\n",
    "                \n",
    "            if (p=='Wheezes & Crackles'):\n",
    "                data_x, sampling_rate = librosa.load(dir_+soundDir,res_type='kaiser_fast')\n",
    "                mfccs = np.mean(librosa.feature.mfcc(y=data_x, sr=sampling_rate, n_mfcc=features).T,axis = 0)\n",
    "                X_.append(mfccs)\n",
    "                y_.append('Not Crackles')\n",
    "                \n",
    "                data_stretch = librosa.effects.time_stretch(data_x, rate=1.2)\n",
    "                mfccs_stretch = np.mean(librosa.feature.mfcc(y=data_stretch, sr=sampling_rate, n_mfcc=features).T,axis = 0)\n",
    "                X_.append(mfccs_stretch)\n",
    "                y_.append('Not Crackles')\n",
    "                    \n",
    "            if (p == 'Healthy'):\n",
    "                data_x, sampling_rate = librosa.load(dir_+soundDir,res_type='kaiser_fast')\n",
    "                mfccs = np.mean(librosa.feature.mfcc(y=data_x, sr=sampling_rate, n_mfcc=features).T,axis = 0)\n",
    "                X_.append(mfccs)\n",
    "                y_.append('Not Crackles')\n",
    "                \n",
    "                data_stretch = librosa.effects.time_stretch(data_x, rate=1.2)\n",
    "                mfccs_stretch = np.mean(librosa.feature.mfcc(y=data_stretch, sr=sampling_rate, n_mfcc=features).T,axis = 0)\n",
    "                X_.append(mfccs_stretch)\n",
    "                y_.append('Not Crackles')\n",
    "                \n",
    "                data_stretch_2 = librosa.effects.time_stretch(data_x, rate=0.8)\n",
    "                mfccs_stretch_2 = np.mean(librosa.feature.mfcc(y=data_stretch_2, sr=sampling_rate, n_mfcc=features).T,axis = 0)\n",
    "                X_.append(mfccs_stretch_2)\n",
    "                y_.append('Not Crackles')\n",
    "\n",
    "    X_data = np.array(X_)\n",
    "    y_data = np.array(y_)\n",
    "    \n",
    "    \n",
    "    \n",
    "    return X_data ,y_data"
   ]
  },
  {
   "cell_type": "code",
   "execution_count": 23,
   "metadata": {
    "execution": {
     "iopub.execute_input": "2023-01-02T19:51:10.656113Z",
     "iopub.status.busy": "2023-01-02T19:51:10.655748Z",
     "iopub.status.idle": "2023-01-02T20:08:25.515824Z",
     "shell.execute_reply": "2023-01-02T20:08:25.514209Z",
     "shell.execute_reply.started": "2023-01-02T19:51:10.656082Z"
    },
    "scrolled": true
   },
   "outputs": [],
   "source": [
    "crackles_features , crackles_lables = mfcc_feature_exteraction_crackles(audio_data)\n",
    "wheezes_features , wheezes_lables = mfcc_feature_exteraction_wheezes(audio_data)"
   ]
  },
  {
   "cell_type": "code",
   "execution_count": 24,
   "metadata": {
    "execution": {
     "iopub.execute_input": "2023-01-02T20:08:32.529064Z",
     "iopub.status.busy": "2023-01-02T20:08:32.528686Z",
     "iopub.status.idle": "2023-01-02T20:08:32.536205Z",
     "shell.execute_reply": "2023-01-02T20:08:32.53522Z",
     "shell.execute_reply.started": "2023-01-02T20:08:32.529031Z"
    }
   },
   "outputs": [],
   "source": [
    "def augmented_lables_count(lables):\n",
    "    unique, counts = np.unique(lables, return_counts=True)\n",
    "    data_count = dict(zip(unique, counts))\n",
    "\n",
    "    data = data_count\n",
    "\n",
    "    courses = list(data.keys())\n",
    "    values = list(data.values())\n",
    "\n",
    "    fig = plt.figure(figsize = (10, 5))\n",
    "\n",
    "    # creating the bar plot\n",
    "    plt.bar(courses, values, color =['orange','green','blue','red','yellow','black'],\n",
    "            width = 0.4)\n",
    "\n",
    "    plt.xlabel(\"Diseases\")\n",
    "    plt.ylabel(\"Count\")\n",
    "    plt.title(\"Count of each disease\")\n",
    "    plt.show()\n",
    "\n",
    "    print (data_count)"
   ]
  },
  {
   "cell_type": "code",
   "execution_count": 25,
   "metadata": {
    "execution": {
     "iopub.execute_input": "2023-01-02T20:10:43.037755Z",
     "iopub.status.busy": "2023-01-02T20:10:43.037392Z",
     "iopub.status.idle": "2023-01-02T20:10:43.044661Z",
     "shell.execute_reply": "2023-01-02T20:10:43.043484Z",
     "shell.execute_reply.started": "2023-01-02T20:10:43.037725Z"
    }
   },
   "outputs": [
    {
     "data": {
      "text/plain": [
       "1544"
      ]
     },
     "execution_count": 25,
     "metadata": {},
     "output_type": "execute_result"
    }
   ],
   "source": [
    "wheezes_lables.shape[0]"
   ]
  },
  {
   "cell_type": "code",
   "execution_count": 26,
   "metadata": {
    "execution": {
     "iopub.execute_input": "2023-01-02T20:08:33.246257Z",
     "iopub.status.busy": "2023-01-02T20:08:33.245866Z",
     "iopub.status.idle": "2023-01-02T20:08:57.532368Z",
     "shell.execute_reply": "2023-01-02T20:08:57.531347Z",
     "shell.execute_reply.started": "2023-01-02T20:08:33.246221Z"
    }
   },
   "outputs": [
    {
     "data": {
      "image/png": "[encoded data removed]",
      "text/plain": [
       "<Figure size 1000x500 with 1 Axes>"
      ]
     },
     "metadata": {},
     "output_type": "display_data"
    },
    {
     "name": "stdout",
     "output_type": "stream",
     "text": [
      "{'Crackles': 1102, 'Not Crackles': 1036}\n"
     ]
    },
    {
     "data": {
      "image/png": "[encoded data removed]",
      "text/plain": [
       "<Figure size 1000x500 with 1 Axes>"
      ]
     },
     "metadata": {},
     "output_type": "display_data"
    },
    {
     "name": "stdout",
     "output_type": "stream",
     "text": [
      "{'Not Wheezes': 803, 'Wheezes': 741}\n"
     ]
    }
   ],
   "source": [
    "augmented_lables_count(crackles_lables)\n",
    "augmented_lables_count(wheezes_lables)"
   ]
  },
  {
   "cell_type": "code",
   "execution_count": 27,
   "metadata": {},
   "outputs": [],
   "source": [
    "crackles_lables_encode = crackles_lables.reshape(crackles_lables.shape[0],1)\n",
    "crackles_lables_encode = np.where(crackles_lables_encode == 'Crackles',np.array([1,0]).reshape(1,2) , crackles_lables_encode)\n",
    "crackles_lables_encode = np.where(crackles_lables_encode == 'Not Crackles',np.array([0,1]).reshape(1,2) , crackles_lables_encode)\n",
    "\n",
    "\n",
    "wheezes_lables_encode = wheezes_lables.reshape(wheezes_lables.shape[0],1)\n",
    "wheezes_lables_encode = np.where(wheezes_lables_encode == 'Wheezes',np.array([1,0]).reshape(1,2) , wheezes_lables_encode)\n",
    "wheezes_lables_encode = np.where(wheezes_lables_encode == 'Not Wheezes',np.array([0,1]).reshape(1,2) , wheezes_lables_encode)\n",
    "\n",
    "crackles_lables = crackles_lables_encode.astype('float64')\n",
    "wheezes_lables = wheezes_lables_encode.astype('float64')"
   ]
  },
  {
   "cell_type": "code",
   "execution_count": 28,
   "metadata": {
    "execution": {
     "iopub.execute_input": "2023-01-02T20:12:14.919008Z",
     "iopub.status.busy": "2023-01-02T20:12:14.918637Z",
     "iopub.status.idle": "2023-01-02T20:12:14.927287Z",
     "shell.execute_reply": "2023-01-02T20:12:14.926092Z",
     "shell.execute_reply.started": "2023-01-02T20:12:14.918978Z"
    }
   },
   "outputs": [
    {
     "name": "stdout",
     "output_type": "stream",
     "text": [
      "(2138, 52) (2138, 2)\n",
      "(1544, 52) (1544, 2)\n"
     ]
    }
   ],
   "source": [
    "x_crackles = np.array(crackles_features)\n",
    "y_crackles = np.array(crackles_lables)\n",
    "\n",
    "x_wheezes = np.array(wheezes_features)\n",
    "y_wheezes = np.array(wheezes_lables)\n",
    "\n",
    "print (x_crackles.shape , y_crackles.shape)\n",
    "print (x_wheezes.shape , y_wheezes.shape)"
   ]
  },
  {
   "cell_type": "markdown",
   "metadata": {},
   "source": [
    "## Data Split"
   ]
  },
  {
   "cell_type": "code",
   "execution_count": 29,
   "metadata": {
    "execution": {
     "iopub.execute_input": "2023-01-02T20:13:02.507055Z",
     "iopub.status.busy": "2023-01-02T20:13:02.506691Z",
     "iopub.status.idle": "2023-01-02T20:13:02.520672Z",
     "shell.execute_reply": "2023-01-02T20:13:02.519503Z",
     "shell.execute_reply.started": "2023-01-02T20:13:02.507025Z"
    }
   },
   "outputs": [
    {
     "name": "stdout",
     "output_type": "stream",
     "text": [
      "(1630, 52) (375, 52) (133, 52)\n",
      "(1630, 2) (375, 2) (133, 2)\n",
      "(1177, 52) (271, 52) (96, 52)\n",
      "(1177, 2) (271, 2) (96, 2)\n"
     ]
    }
   ],
   "source": [
    "c_x_train, c_x_val, c_y_train, c_y_val  = train_test_split(x_crackles,y_crackles, test_size=0.175, random_state=10)\n",
    "c_x_train, c_x_test, c_y_train, c_y_test = train_test_split(c_x_train, c_y_train, test_size=0.075, random_state=10)\n",
    "\n",
    "w_x_train, w_x_val, w_y_train, w_y_val  = train_test_split(x_wheezes, y_wheezes, test_size=0.175, random_state=10)\n",
    "w_x_train, w_x_test, w_y_train, w_y_test = train_test_split(w_x_train, w_y_train, test_size=0.075, random_state=10)\n",
    "\n",
    "print (c_x_train.shape, c_x_val.shape, c_x_test.shape)\n",
    "print (c_y_train.shape, c_y_val.shape, c_y_test.shape)\n",
    "\n",
    "print (w_x_train.shape, w_x_val.shape, w_x_test.shape)\n",
    "print (w_y_train.shape, w_y_val.shape, w_y_test.shape)"
   ]
  },
  {
   "cell_type": "markdown",
   "metadata": {},
   "source": [
    "# LSTM Model"
   ]
  },
  {
   "cell_type": "markdown",
   "metadata": {},
   "source": [
    "## Build Model"
   ]
  },
  {
   "cell_type": "code",
   "execution_count": 30,
   "metadata": {
    "execution": {
     "iopub.execute_input": "2023-01-02T19:40:29.172948Z",
     "iopub.status.busy": "2023-01-02T19:40:29.172585Z",
     "iopub.status.idle": "2023-01-02T19:40:32.362323Z",
     "shell.execute_reply": "2023-01-02T19:40:32.361399Z",
     "shell.execute_reply.started": "2023-01-02T19:40:29.172918Z"
    }
   },
   "outputs": [
    {
     "name": "stdout",
     "output_type": "stream",
     "text": [
      "Model: \"sequential\"\n",
      "_________________________________________________________________\n",
      " Layer (type)                Output Shape              Param #   \n",
      "=================================================================\n",
      " conv1d (Conv1D)             (None, 52, 2048)          12288     \n",
      "                                                                 \n",
      " max_pooling1d (MaxPooling1D  (None, 26, 2048)         0         \n",
      " )                                                               \n",
      "                                                                 \n",
      " batch_normalization (BatchN  (None, 26, 2048)         8192      \n",
      " ormalization)                                                   \n",
      "                                                                 \n",
      " conv1d_1 (Conv1D)           (None, 26, 1024)          10486784  \n",
      "                                                                 \n",
      " max_pooling1d_1 (MaxPooling  (None, 13, 1024)         0         \n",
      " 1D)                                                             \n",
      "                                                                 \n",
      " batch_normalization_1 (Batc  (None, 13, 1024)         4096      \n",
      " hNormalization)                                                 \n",
      "                                                                 \n",
      " conv1d_2 (Conv1D)           (None, 13, 512)           2621952   \n",
      "                                                                 \n",
      " max_pooling1d_2 (MaxPooling  (None, 7, 512)           0         \n",
      " 1D)                                                             \n",
      "                                                                 \n",
      " batch_normalization_2 (Batc  (None, 7, 512)           2048      \n",
      " hNormalization)                                                 \n",
      "                                                                 \n",
      " lstm (LSTM)                 (None, 7, 256)            787456    \n",
      "                                                                 \n",
      " lstm_1 (LSTM)               (None, 128)               197120    \n",
      "                                                                 \n",
      " dense (Dense)               (None, 64)                8256      \n",
      "                                                                 \n",
      " dropout (Dropout)           (None, 64)                0         \n",
      "                                                                 \n",
      " dense_1 (Dense)             (None, 32)                2080      \n",
      "                                                                 \n",
      " dropout_1 (Dropout)         (None, 32)                0         \n",
      "                                                                 \n",
      " dense_2 (Dense)             (None, 2)                 66        \n",
      "                                                                 \n",
      "=================================================================\n",
      "Total params: 14,130,338\n",
      "Trainable params: 14,123,170\n",
      "Non-trainable params: 7,168\n",
      "_________________________________________________________________\n"
     ]
    }
   ],
   "source": [
    "model = Sequential()\n",
    "\n",
    "model.add(Conv1D(2048, kernel_size=5, strides=1, padding='same', activation='relu', input_shape=(52, 1)))\n",
    "model.add(MaxPooling1D(pool_size=2, strides = 2, padding = 'same'))\n",
    "model.add(BatchNormalization())\n",
    "\n",
    "model.add(Conv1D(1024, kernel_size=5, strides=1, padding='same', activation='relu', input_shape=(52, 1)))\n",
    "model.add(MaxPooling1D(pool_size=2, strides = 2, padding = 'same'))\n",
    "model.add(BatchNormalization())\n",
    "\n",
    "model.add(Conv1D(512, kernel_size=5, strides=1, padding='same', activation='relu'))\n",
    "model.add(MaxPooling1D(pool_size=2, strides = 2, padding = 'same'))\n",
    "model.add(BatchNormalization())\n",
    "\n",
    "\n",
    "model.add(LSTM(256, return_sequences=True))\n",
    "\n",
    "model.add(LSTM(128))\n",
    "\n",
    "model.add(Dense(64, activation='relu'))\n",
    "model.add(Dropout(0.5))\n",
    "\n",
    "model.add(Dense(32, activation='relu'))\n",
    "model.add(Dropout(0.5))\n",
    "\n",
    "\n",
    "model.add(Dense(2, activation='softmax'))\n",
    "\n",
    "\n",
    "model.summary()"
   ]
  },
  {
   "cell_type": "code",
   "execution_count": 31,
   "metadata": {},
   "outputs": [
    {
     "name": "stdout",
     "output_type": "stream",
     "text": [
      "Collecting pydot\n",
      "  Downloading pydot-1.4.2-py2.py3-none-any.whl (21 kB)\n",
      "Requirement already satisfied: pyparsing>=2.1.4 in c:\\users\\user\\anaconda3\\lib\\site-packages (from pydot) (3.0.9)\n",
      "Installing collected packages: pydot\n",
      "Successfully installed pydot-1.4.2\n"
     ]
    }
   ],
   "source": [
    "#!pip install pydot"
   ]
  },
  {
   "cell_type": "code",
   "execution_count": 32,
   "metadata": {},
   "outputs": [
    {
     "name": "stdout",
     "output_type": "stream",
     "text": [
      "Collecting graphviz\n",
      "  Downloading graphviz-0.20.1-py3-none-any.whl (47 kB)\n",
      "     -------------------------------------- 47.0/47.0 kB 294.4 kB/s eta 0:00:00\n",
      "Installing collected packages: graphviz\n",
      "Successfully installed graphviz-0.20.1\n"
     ]
    }
   ],
   "source": [
    "#!pip install graphviz\n"
   ]
  },
  {
   "cell_type": "code",
   "execution_count": 33,
   "metadata": {
    "execution": {
     "iopub.execute_input": "2023-01-02T19:40:32.364586Z",
     "iopub.status.busy": "2023-01-02T19:40:32.364217Z",
     "iopub.status.idle": "2023-01-02T19:40:33.339286Z",
     "shell.execute_reply": "2023-01-02T19:40:33.338168Z",
     "shell.execute_reply.started": "2023-01-02T19:40:32.364551Z"
    }
   },
   "outputs": [
    {
     "name": "stdout",
     "output_type": "stream",
     "text": [
      "You must install pydot (`pip install pydot`) and install graphviz (see instructions at https://graphviz.gitlab.io/download/) for plot_model to work.\n"
     ]
    }
   ],
   "source": [
    "tf.keras.utils.plot_model(model, \"LSTM_Model.png\", show_shapes=True)"
   ]
  },
  {
   "cell_type": "code",
   "execution_count": 34,
   "metadata": {
    "execution": {
     "iopub.execute_input": "2023-01-02T19:41:27.08512Z",
     "iopub.status.busy": "2023-01-02T19:41:27.08411Z",
     "iopub.status.idle": "2023-01-02T19:41:27.103328Z",
     "shell.execute_reply": "2023-01-02T19:41:27.102349Z",
     "shell.execute_reply.started": "2023-01-02T19:41:27.085083Z"
    }
   },
   "outputs": [],
   "source": [
    "optimiser = tf.keras.optimizers.Adam(learning_rate = 0.0001)\n",
    "model.compile(optimizer=optimiser,\n",
    "                  loss='categorical_crossentropy',\n",
    "                  metrics=['accuracy'])"
   ]
  },
  {
   "cell_type": "markdown",
   "metadata": {},
   "source": [
    "# Wheezes"
   ]
  },
  {
   "cell_type": "code",
   "execution_count": 35,
   "metadata": {
    "execution": {
     "iopub.execute_input": "2023-01-02T20:13:21.282152Z",
     "iopub.status.busy": "2023-01-02T20:13:21.281785Z",
     "iopub.status.idle": "2023-01-02T20:13:21.287886Z",
     "shell.execute_reply": "2023-01-02T20:13:21.286724Z",
     "shell.execute_reply.started": "2023-01-02T20:13:21.28212Z"
    }
   },
   "outputs": [],
   "source": [
    "w_x_train_lstm = np.expand_dims(w_x_train,axis=2)\n",
    "w_x_val_lstm = np.expand_dims(w_x_val,axis=2)\n",
    "w_x_test_lstm = np.expand_dims(w_x_test,axis=2)"
   ]
  },
  {
   "cell_type": "markdown",
   "metadata": {},
   "source": [
    "## Train Model"
   ]
  },
  {
   "cell_type": "code",
   "execution_count": 36,
   "metadata": {
    "execution": {
     "iopub.execute_input": "2023-01-02T19:47:18.117907Z",
     "iopub.status.busy": "2023-01-02T19:47:18.117522Z",
     "iopub.status.idle": "2023-01-02T19:47:18.125846Z",
     "shell.execute_reply": "2023-01-02T19:47:18.124878Z",
     "shell.execute_reply.started": "2023-01-02T19:47:18.11787Z"
    }
   },
   "outputs": [
    {
     "name": "stdout",
     "output_type": "stream",
     "text": [
      "Model: \"sequential\"\n",
      "_________________________________________________________________\n",
      " Layer (type)                Output Shape              Param #   \n",
      "=================================================================\n",
      " conv1d (Conv1D)             (None, 52, 2048)          12288     \n",
      "                                                                 \n",
      " max_pooling1d (MaxPooling1D  (None, 26, 2048)         0         \n",
      " )                                                               \n",
      "                                                                 \n",
      " batch_normalization (BatchN  (None, 26, 2048)         8192      \n",
      " ormalization)                                                   \n",
      "                                                                 \n",
      " conv1d_1 (Conv1D)           (None, 26, 1024)          10486784  \n",
      "                                                                 \n",
      " max_pooling1d_1 (MaxPooling  (None, 13, 1024)         0         \n",
      " 1D)                                                             \n",
      "                                                                 \n",
      " batch_normalization_1 (Batc  (None, 13, 1024)         4096      \n",
      " hNormalization)                                                 \n",
      "                                                                 \n",
      " conv1d_2 (Conv1D)           (None, 13, 512)           2621952   \n",
      "                                                                 \n",
      " max_pooling1d_2 (MaxPooling  (None, 7, 512)           0         \n",
      " 1D)                                                             \n",
      "                                                                 \n",
      " batch_normalization_2 (Batc  (None, 7, 512)           2048      \n",
      " hNormalization)                                                 \n",
      "                                                                 \n",
      " lstm (LSTM)                 (None, 7, 256)            787456    \n",
      "                                                                 \n",
      " lstm_1 (LSTM)               (None, 128)               197120    \n",
      "                                                                 \n",
      " dense (Dense)               (None, 64)                8256      \n",
      "                                                                 \n",
      " dropout (Dropout)           (None, 64)                0         \n",
      "                                                                 \n",
      " dense_1 (Dense)             (None, 32)                2080      \n",
      "                                                                 \n",
      " dropout_1 (Dropout)         (None, 32)                0         \n",
      "                                                                 \n",
      " dense_2 (Dense)             (None, 2)                 66        \n",
      "                                                                 \n",
      "=================================================================\n",
      "Total params: 14,130,338\n",
      "Trainable params: 14,123,170\n",
      "Non-trainable params: 7,168\n",
      "_________________________________________________________________\n"
     ]
    }
   ],
   "source": [
    "w_model = model\n",
    "w_model.summary()"
   ]
  },
  {
   "cell_type": "code",
   "execution_count": 56,
   "metadata": {
    "execution": {
     "iopub.execute_input": "2023-01-02T20:13:25.348846Z",
     "iopub.status.busy": "2023-01-02T20:13:25.348123Z",
     "iopub.status.idle": "2023-01-02T20:13:25.353484Z",
     "shell.execute_reply": "2023-01-02T20:13:25.352527Z",
     "shell.execute_reply.started": "2023-01-02T20:13:25.348808Z"
    }
   },
   "outputs": [],
   "source": [
    "cb = [EarlyStopping(patience=10,monitor='val_accuracy',mode='max',restore_best_weights=True),\n",
    "      ModelCheckpoint(\"C:/Users/USER/Desktop/jupyter/respiratory-sound-database/Respiratory_Sound_Database/Respiratory_Sound_Database/W_LSTM_CNN_1.h5\",save_best_only=True)]"
   ]
  },
  {
   "cell_type": "code",
   "execution_count": 57,
   "metadata": {
    "execution": {
     "iopub.execute_input": "2023-01-02T20:14:01.326292Z",
     "iopub.status.busy": "2023-01-02T20:14:01.325895Z",
     "iopub.status.idle": "2023-01-02T20:14:01.338517Z",
     "shell.execute_reply": "2023-01-02T20:14:01.337468Z",
     "shell.execute_reply.started": "2023-01-02T20:14:01.32626Z"
    }
   },
   "outputs": [],
   "source": [
    "optimiser = tf.keras.optimizers.Adam(learning_rate = 0.0001)\n",
    "w_model.compile(optimizer=optimiser,\n",
    "                  loss='categorical_crossentropy',\n",
    "                  metrics=['accuracy'])"
   ]
  },
  {
   "cell_type": "code",
   "execution_count": null,
   "metadata": {
    "execution": {
     "iopub.execute_input": "2023-01-02T20:14:05.435767Z",
     "iopub.status.busy": "2023-01-02T20:14:05.435392Z",
     "iopub.status.idle": "2023-01-02T20:14:38.673514Z",
     "shell.execute_reply": "2023-01-02T20:14:38.672516Z",
     "shell.execute_reply.started": "2023-01-02T20:14:05.435735Z"
    }
   },
   "outputs": [
    {
     "name": "stdout",
     "output_type": "stream",
     "text": [
      "Epoch 1/250\n",
      "74/74 [==============================] - 148s 2s/step - loss: 0.5977 - accuracy: 0.6805 - val_loss: 0.6266 - val_accuracy: 0.6199\n",
      "Epoch 2/250\n",
      "74/74 [==============================] - 128s 2s/step - loss: 0.5818 - accuracy: 0.6754 - val_loss: 0.6205 - val_accuracy: 0.6531\n",
      "Epoch 3/250\n",
      "74/74 [==============================] - 130s 2s/step - loss: 0.5747 - accuracy: 0.7009 - val_loss: 0.9478 - val_accuracy: 0.4908\n",
      "Epoch 4/250\n",
      "74/74 [==============================] - 130s 2s/step - loss: 0.5468 - accuracy: 0.7052 - val_loss: 0.5916 - val_accuracy: 0.6937\n",
      "Epoch 5/250\n",
      "74/74 [==============================] - 132s 2s/step - loss: 0.5502 - accuracy: 0.7196 - val_loss: 0.7281 - val_accuracy: 0.5646\n",
      "Epoch 6/250\n",
      "74/74 [==============================] - 131s 2s/step - loss: 0.5292 - accuracy: 0.7324 - val_loss: 0.6106 - val_accuracy: 0.5941\n",
      "Epoch 7/250\n",
      "74/74 [==============================] - 130s 2s/step - loss: 0.4980 - accuracy: 0.7553 - val_loss: 0.7080 - val_accuracy: 0.6384\n",
      "Epoch 8/250\n",
      "74/74 [==============================] - 131s 2s/step - loss: 0.4902 - accuracy: 0.7536 - val_loss: 0.6150 - val_accuracy: 0.6199\n",
      "Epoch 9/250\n",
      "74/74 [==============================] - 131s 2s/step - loss: 0.4578 - accuracy: 0.7621 - val_loss: 0.4648 - val_accuracy: 0.7860\n",
      "Epoch 10/250\n",
      "74/74 [==============================] - 109s 1s/step - loss: 0.4595 - accuracy: 0.7681 - val_loss: 0.5275 - val_accuracy: 0.6900\n",
      "Epoch 11/250\n",
      "74/74 [==============================] - 77s 1s/step - loss: 0.4277 - accuracy: 0.7681 - val_loss: 0.6195 - val_accuracy: 0.6753\n",
      "Epoch 12/250\n",
      "45/74 [=================>............] - ETA: 28s - loss: 0.4025 - accuracy: 0.7861"
     ]
    }
   ],
   "source": [
    "w_history = w_model.fit(w_x_train_lstm, w_y_train, batch_size=16, epochs=250, validation_data=(w_x_val_lstm, w_y_val),callbacks = cb )"
   ]
  },
  {
   "cell_type": "markdown",
   "metadata": {},
   "source": [
    "## Evaluate Model"
   ]
  },
  {
   "cell_type": "code",
   "execution_count": 43,
   "metadata": {
    "execution": {
     "iopub.execute_input": "2023-01-02T20:21:58.123784Z",
     "iopub.status.busy": "2023-01-02T20:21:58.123374Z",
     "iopub.status.idle": "2023-01-02T20:21:58.4666Z",
     "shell.execute_reply": "2023-01-02T20:21:58.465635Z",
     "shell.execute_reply.started": "2023-01-02T20:21:58.12375Z"
    }
   },
   "outputs": [
    {
     "name": "stdout",
     "output_type": "stream",
     "text": [
      "9/9 [==============================] - 3s 308ms/step - loss: 0.6007 - accuracy: 0.6937\n"
     ]
    },
    {
     "data": {
      "image/png": "[encoded data removed]",
      "text/plain": [
       "<Figure size 1500x500 with 2 Axes>"
      ]
     },
     "metadata": {},
     "output_type": "display_data"
    }
   ],
   "source": [
    "w_model.evaluate(w_x_val_lstm, w_y_val)\n",
    "def plot_loss_curves(history):\n",
    "    \"\"\"\n",
    "    Plots loss vs. epochs and accuracy vs. epochs curves for training and validation data.\n",
    "\n",
    "    :param history: Training history from model.fit()\n",
    "    \"\"\"\n",
    "    fig, ax = plt.subplots(1, 2, figsize=(15, 5))\n",
    "\n",
    "    ax[0].plot(history.history['loss'], label='Training Loss')\n",
    "    ax[0].plot(history.history['val_loss'], label='Validation Loss')\n",
    "    ax[0].set_title('Loss vs. Epochs')\n",
    "    ax[0].set_xlabel('Epochs')\n",
    "    ax[0].set_ylabel('Loss')\n",
    "    ax[0].legend()\n",
    "\n",
    "    ax[1].plot(history.history['accuracy'], label='Training Accuracy')\n",
    "    ax[1].plot(history.history['val_accuracy'], label='Validation Accuracy')\n",
    "    ax[1].set_title('Accuracy vs. Epochs')\n",
    "    ax[1].set_xlabel('Epochs')\n",
    "    ax[1].set_ylabel('Accuracy')\n",
    "    ax[1].legend()\n",
    "\n",
    "    plt.show()\n",
    "    \n",
    "plot_loss_curves(w_history)\n"
   ]
  },
  {
   "cell_type": "markdown",
   "metadata": {},
   "source": [
    "## Results"
   ]
  },
  {
   "cell_type": "code",
   "execution_count": 44,
   "metadata": {
    "execution": {
     "iopub.execute_input": "2023-01-02T20:22:10.895246Z",
     "iopub.status.busy": "2023-01-02T20:22:10.894859Z",
     "iopub.status.idle": "2023-01-02T20:22:11.954486Z",
     "shell.execute_reply": "2023-01-02T20:22:11.953027Z",
     "shell.execute_reply.started": "2023-01-02T20:22:10.895209Z"
    }
   },
   "outputs": [
    {
     "name": "stdout",
     "output_type": "stream",
     "text": [
      "3/3 [==============================] - 3s 351ms/step\n"
     ]
    },
    {
     "data": {
      "image/png": "[encoded data removed]",
      "text/plain": [
       "<Figure size 640x480 with 2 Axes>"
      ]
     },
     "metadata": {},
     "output_type": "display_data"
    }
   ],
   "source": [
    "classes = [\"Wheezes\", \"No Wheezes\"]\n",
    "\n",
    "preds = w_model.predict(w_x_test_lstm)\n",
    "classpreds = [ np.argmax(t) for t in preds ]\n",
    "y_testclass = [np.argmax(t) for t in w_y_test]\n",
    "cm = confusion_matrix(y_testclass, classpreds)\n",
    "\n",
    "plt.figure(figsize=(8, 6), dpi=80, facecolor='w', edgecolor='k')\n",
    "ax = sns.heatmap(cm, cmap='Blues', annot=True, fmt='d', xticklabels=classes, yticklabels=classes)\n",
    "\n",
    "plt.title('')\n",
    "plt.xlabel('Prediction')\n",
    "plt.ylabel('Truth')\n",
    "plt.show(ax)"
   ]
  },
  {
   "cell_type": "code",
   "execution_count": 45,
   "metadata": {
    "execution": {
     "iopub.execute_input": "2023-01-02T20:22:20.446087Z",
     "iopub.status.busy": "2023-01-02T20:22:20.445718Z",
     "iopub.status.idle": "2023-01-02T20:22:20.457526Z",
     "shell.execute_reply": "2023-01-02T20:22:20.45627Z",
     "shell.execute_reply.started": "2023-01-02T20:22:20.446053Z"
    }
   },
   "outputs": [
    {
     "name": "stdout",
     "output_type": "stream",
     "text": [
      "              precision    recall  f1-score   support\n",
      "\n",
      "     Wheezes       0.79      0.68      0.73        50\n",
      "  No Wheezes       0.70      0.80      0.75        46\n",
      "\n",
      "    accuracy                           0.74        96\n",
      "   macro avg       0.74      0.74      0.74        96\n",
      "weighted avg       0.75      0.74      0.74        96\n",
      "\n"
     ]
    }
   ],
   "source": [
    "print(classification_report(y_testclass, classpreds, target_names=classes))"
   ]
  },
  {
   "cell_type": "code",
   "execution_count": 46,
   "metadata": {
    "execution": {
     "iopub.execute_input": "2023-01-02T20:30:05.006363Z",
     "iopub.status.busy": "2023-01-02T20:30:05.005965Z",
     "iopub.status.idle": "2023-01-02T20:30:05.435268Z",
     "shell.execute_reply": "2023-01-02T20:30:05.434126Z",
     "shell.execute_reply.started": "2023-01-02T20:30:05.00633Z"
    }
   },
   "outputs": [],
   "source": [
    "w_model.save('C:/Users/USER/Desktop/jupyter/respiratory-sound-database/Respiratory_Sound_Database/Respiratory_Sound_Database/LSTM_W_97.78.h5')"
   ]
  },
  {
   "cell_type": "markdown",
   "metadata": {},
   "source": [
    "# Prediction"
   ]
  },
  {
   "cell_type": "code",
   "execution_count": 54,
   "metadata": {
    "execution": {
     "iopub.execute_input": "2023-01-02T20:22:24.936763Z",
     "iopub.status.busy": "2023-01-02T20:22:24.935773Z",
     "iopub.status.idle": "2023-01-02T20:22:24.946418Z",
     "shell.execute_reply": "2023-01-02T20:22:24.94541Z",
     "shell.execute_reply.started": "2023-01-02T20:22:24.936723Z"
    }
   },
   "outputs": [],
   "source": [
    "def wheezes_detection(audio_path):\n",
    "    w_classes = [\"Wheezes\", \"No Wheezes\"]\n",
    "\n",
    "    data_x, sampling_rate = librosa.load(audio_path)\n",
    "\n",
    "    features = np.mean(librosa.feature.mfcc(y=data_x, sr=sampling_rate, n_mfcc=52).T,axis = 0)\n",
    "\n",
    "    features = features.reshape(1,52)\n",
    "\n",
    "    w_pred = w_model.predict(np.expand_dims(features, axis = 2))\n",
    "    w_classpreds = w_classes[np.argmax(w_pred, axis=1)[0]]\n",
    "    w_confidence = w_pred.T[w_pred.mean(axis=0).argmax()].mean()\n",
    "\n",
    "    print (w_classpreds, w_confidence)"
   ]
  },
  {
   "cell_type": "code",
   "execution_count": 55,
   "metadata": {
    "execution": {
     "iopub.execute_input": "2023-01-02T20:28:07.609754Z",
     "iopub.status.busy": "2023-01-02T20:28:07.609032Z",
     "iopub.status.idle": "2023-01-02T20:28:07.845377Z",
     "shell.execute_reply": "2023-01-02T20:28:07.844341Z",
     "shell.execute_reply.started": "2023-01-02T20:28:07.609718Z"
    }
   },
   "outputs": [
    {
     "name": "stdout",
     "output_type": "stream",
     "text": [
      "1/1 [==============================] - 0s 74ms/step\n",
      "Wheezes 0.9169341\n"
     ]
    }
   ],
   "source": [
    "wheezes_detection('C:/Users/USER/Desktop/jupyter/respiratory-sound-database/Respiratory_Sound_Database/Respiratory_Sound_Database/test/101_1b1_Pr_sc_Meditron.wav')"
   ]
  },
  {
   "cell_type": "code",
   "execution_count": null,
   "metadata": {},
   "outputs": [],
   "source": []
  }
 ],
 "metadata": {
  "kernelspec": {
   "display_name": "Python 3 (ipykernel)",
   "language": "python",
   "name": "python3"
  },
  "language_info": {
   "codemirror_mode": {
    "name": "ipython",
    "version": 3
   },
   "file_extension": ".py",
   "mimetype": "text/x-python",
   "name": "python",
   "nbconvert_exporter": "python",
   "pygments_lexer": "ipython3",
   "version": "3.9.13"
  }
 },
 "nbformat": 4,
 "nbformat_minor": 4
}
